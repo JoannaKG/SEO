{
 "cells": [
  {
   "cell_type": "code",
   "execution_count": 47,
   "metadata": {},
   "outputs": [],
   "source": [
    "import json\n",
    "from selenium import webdriver\n",
    "import pandas as pd\n",
    "import requests\n",
    "import xml.etree.ElementTree as ET"
   ]
  },
  {
   "cell_type": "code",
   "execution_count": 48,
   "metadata": {
    "pycharm": {
     "name": "#%%\n"
    }
   },
   "outputs": [],
   "source": [
    "driver = webdriver.Chrome('C:\\\\Users\\\\Joanna\\\\AppData\\\\Local\\\\Programs\\\\Python\\\\Python39\\\\venv\\\\Scripts\\\\chromedriver.exe')\n",
    "keywords = ['czerwona sukienka']\n",
    "driver.get('https://www.google.pl/search?q='+keywords[0])"
   ]
  },
  {
   "cell_type": "code",
   "execution_count": 49,
   "metadata": {
    "pycharm": {
     "name": "#%%\n"
    }
   },
   "outputs": [
    {
     "name": "stdout",
     "output_type": "stream",
     "text": [
      "['https://domodi.pl/czerwone-sukienki', 'https://allegro.pl/listing?string=czerwona%20sukienka', 'https://allani.pl/wyszukaj/sukienki/czerwone', 'https://www.zalando.pl/odziez-damska-sukienki/_czerwony/', 'https://www.renee.pl/sukienki/czerwone', 'https://ohso.pl/c4558,4614,0,0,,czerwone-sukienki', 'https://modnakiecka.pl/pl/c/Czerwone-Sukienki/2240726', 'https://www.c-and-a.com/pl/pl/shop/trend-czerwona-sukienka', 'https://mosquito-sklep.pl/pl/238-sukienki-czerwone']\n"
     ]
    }
   ],
   "source": [
    "webelements = driver.find_elements_by_xpath('//div[@class=\"rc\"]/div/a')\n",
    "urls = []\n",
    "for elem in webelements:\n",
    "    urls.append(elem.get_attribute('href'))\n",
    "print(urls)"
   ]
  },
  {
   "cell_type": "code",
   "execution_count": 50,
   "metadata": {
    "pycharm": {
     "name": "#%%\n"
    }
   },
   "outputs": [],
   "source": [
    "headings1 = []\n",
    "titles = []\n",
    "bodies = []\n",
    "for url in urls[:1]:\n",
    "    driver.get(url)\n",
    "    heading1 = driver.find_elements_by_tag_name('h1')\n",
    "    headings1.append(heading1[0].text)\n",
    "    title = driver.title\n",
    "    titles.append(title)\n",
    "    body = driver.find_elements_by_tag_name('body')\n",
    "    bodies.append(body[0].text)"
   ]
  },
  {
   "cell_type": "code",
   "execution_count": 51,
   "metadata": {
    "pycharm": {
     "name": "#%%\n"
    }
   },
   "outputs": [
    {
     "data": {
      "text/plain": "                                  site                                  title  \\\n0  https://domodi.pl/czerwone-sukienki  Czerwone sukienki, zima 2020 w Domodi   \n\n                             h1  \\\n0  Czerwone sukienki, zima 2020   \n\n                                             content  \n0  Skompletuj swoją szafę na nowy rok z rabatami ...  ",
      "text/html": "<div>\n<style scoped>\n    .dataframe tbody tr th:only-of-type {\n        vertical-align: middle;\n    }\n\n    .dataframe tbody tr th {\n        vertical-align: top;\n    }\n\n    .dataframe thead th {\n        text-align: right;\n    }\n</style>\n<table border=\"1\" class=\"dataframe\">\n  <thead>\n    <tr style=\"text-align: right;\">\n      <th></th>\n      <th>site</th>\n      <th>title</th>\n      <th>h1</th>\n      <th>content</th>\n    </tr>\n  </thead>\n  <tbody>\n    <tr>\n      <th>0</th>\n      <td>https://domodi.pl/czerwone-sukienki</td>\n      <td>Czerwone sukienki, zima 2020 w Domodi</td>\n      <td>Czerwone sukienki, zima 2020</td>\n      <td>Skompletuj swoją szafę na nowy rok z rabatami ...</td>\n    </tr>\n  </tbody>\n</table>\n</div>"
     },
     "execution_count": 51,
     "metadata": {},
     "output_type": "execute_result"
    }
   ],
   "source": [
    "df = pd.DataFrame(\n",
    "    {'site' : urls[:1],\n",
    "     'title': titles,\n",
    "     'h1' : headings1,\n",
    "     'content' : bodies\n",
    "     })\n",
    "df.head()"
   ]
  },
  {
   "cell_type": "code",
   "execution_count": 52,
   "metadata": {
    "pycharm": {
     "name": "#%%\n"
    }
   },
   "outputs": [],
   "source": [
    "category = 'performance'\n",
    "for url in urls[:1]:\n",
    "    api_content = requests.get('https://pagespeedonline.googleapis.com/pagespeedonline/v5/runPagespeed?url={}&category={}'.format(url, category)).content\n",
    "    content = json.loads(api_content)"
   ]
  },
  {
   "cell_type": "code",
   "execution_count": 53,
   "metadata": {
    "pycharm": {
     "name": "#%%\n"
    }
   },
   "outputs": [
    {
     "name": "stdout",
     "output_type": "stream",
     "text": [
      "key: id, value: performance\n",
      "key: title, value: Performance\n",
      "key: score, value: 0.92\n",
      "key: auditRefs, value: [{'id': 'first-contentful-paint', 'weight': 15, 'group': 'metrics'}, {'id': 'speed-index', 'weight': 15, 'group': 'metrics'}, {'id': 'largest-contentful-paint', 'weight': 25, 'group': 'metrics'}, {'id': 'interactive', 'weight': 15, 'group': 'metrics'}, {'id': 'total-blocking-time', 'weight': 25, 'group': 'metrics'}, {'id': 'cumulative-layout-shift', 'weight': 5, 'group': 'metrics'}, {'id': 'first-cpu-idle', 'weight': 0}, {'id': 'max-potential-fid', 'weight': 0}, {'id': 'first-meaningful-paint', 'weight': 0}, {'id': 'estimated-input-latency', 'weight': 0}, {'id': 'render-blocking-resources', 'weight': 0, 'group': 'load-opportunities'}, {'id': 'uses-responsive-images', 'weight': 0, 'group': 'load-opportunities'}, {'id': 'offscreen-images', 'weight': 0, 'group': 'load-opportunities'}, {'id': 'unminified-css', 'weight': 0, 'group': 'load-opportunities'}, {'id': 'unminified-javascript', 'weight': 0, 'group': 'load-opportunities'}, {'id': 'unused-css-rules', 'weight': 0, 'group': 'load-opportunities'}, {'id': 'unused-javascript', 'weight': 0, 'group': 'load-opportunities'}, {'id': 'uses-optimized-images', 'weight': 0, 'group': 'load-opportunities'}, {'id': 'uses-webp-images', 'weight': 0, 'group': 'load-opportunities'}, {'id': 'uses-text-compression', 'weight': 0, 'group': 'load-opportunities'}, {'id': 'uses-rel-preconnect', 'weight': 0, 'group': 'load-opportunities'}, {'id': 'server-response-time', 'weight': 0, 'group': 'load-opportunities'}, {'id': 'redirects', 'weight': 0, 'group': 'load-opportunities'}, {'id': 'uses-rel-preload', 'weight': 0, 'group': 'load-opportunities'}, {'id': 'efficient-animated-content', 'weight': 0, 'group': 'load-opportunities'}, {'id': 'duplicated-javascript', 'weight': 0, 'group': 'load-opportunities'}, {'id': 'legacy-javascript', 'weight': 0, 'group': 'load-opportunities'}, {'id': 'total-byte-weight', 'weight': 0, 'group': 'diagnostics'}, {'id': 'uses-long-cache-ttl', 'weight': 0, 'group': 'diagnostics'}, {'id': 'dom-size', 'weight': 0, 'group': 'diagnostics'}, {'id': 'critical-request-chains', 'weight': 0, 'group': 'diagnostics'}, {'id': 'user-timings', 'weight': 0, 'group': 'diagnostics'}, {'id': 'bootup-time', 'weight': 0, 'group': 'diagnostics'}, {'id': 'mainthread-work-breakdown', 'weight': 0, 'group': 'diagnostics'}, {'id': 'font-display', 'weight': 0, 'group': 'diagnostics'}, {'id': 'performance-budget', 'weight': 0, 'group': 'budgets'}, {'id': 'timing-budget', 'weight': 0, 'group': 'budgets'}, {'id': 'resource-summary', 'weight': 0, 'group': 'diagnostics'}, {'id': 'third-party-summary', 'weight': 0, 'group': 'diagnostics'}, {'id': 'largest-contentful-paint-element', 'weight': 0, 'group': 'diagnostics'}, {'id': 'layout-shift-elements', 'weight': 0, 'group': 'diagnostics'}, {'id': 'uses-passive-event-listeners', 'weight': 0, 'group': 'diagnostics'}, {'id': 'no-document-write', 'weight': 0, 'group': 'diagnostics'}, {'id': 'long-tasks', 'weight': 0, 'group': 'diagnostics'}, {'id': 'non-composited-animations', 'weight': 0, 'group': 'diagnostics'}, {'id': 'large-javascript-libraries', 'weight': 0, 'group': 'diagnostics'}, {'id': 'network-requests', 'weight': 0}, {'id': 'network-rtt', 'weight': 0}, {'id': 'network-server-latency', 'weight': 0}, {'id': 'main-thread-tasks', 'weight': 0}, {'id': 'diagnostics', 'weight': 0}, {'id': 'metrics', 'weight': 0}, {'id': 'screenshot-thumbnails', 'weight': 0}, {'id': 'final-screenshot', 'weight': 0}]\n"
     ]
    }
   ],
   "source": [
    "for key, value in content['lighthouseResult']['categories'][category].items():\n",
    "    print('key: {}, value: {}'.format(key,value))"
   ]
  },
  {
   "cell_type": "code",
   "execution_count": 54,
   "metadata": {
    "pycharm": {
     "name": "#%%\n"
    }
   },
   "outputs": [
    {
     "name": "stdout",
     "output_type": "stream",
     "text": [
      "first-contentful-paint\n",
      "weight: 15\n",
      "speed-index\n",
      "weight: 15\n",
      "largest-contentful-paint\n",
      "weight: 25\n",
      "interactive\n",
      "weight: 15\n",
      "total-blocking-time\n",
      "weight: 25\n",
      "cumulative-layout-shift\n",
      "weight: 5\n",
      "first-cpu-idle\n",
      "weight: 0\n",
      "max-potential-fid\n",
      "weight: 0\n",
      "first-meaningful-paint\n",
      "weight: 0\n",
      "estimated-input-latency\n",
      "weight: 0\n",
      "render-blocking-resources\n",
      "weight: 0\n",
      "uses-responsive-images\n",
      "weight: 0\n",
      "offscreen-images\n",
      "weight: 0\n",
      "unminified-css\n",
      "weight: 0\n",
      "unminified-javascript\n",
      "weight: 0\n",
      "unused-css-rules\n",
      "weight: 0\n",
      "unused-javascript\n",
      "weight: 0\n",
      "uses-optimized-images\n",
      "weight: 0\n",
      "uses-webp-images\n",
      "weight: 0\n",
      "uses-text-compression\n",
      "weight: 0\n",
      "uses-rel-preconnect\n",
      "weight: 0\n",
      "server-response-time\n",
      "weight: 0\n",
      "redirects\n",
      "weight: 0\n",
      "uses-rel-preload\n",
      "weight: 0\n",
      "efficient-animated-content\n",
      "weight: 0\n",
      "duplicated-javascript\n",
      "weight: 0\n",
      "legacy-javascript\n",
      "weight: 0\n",
      "total-byte-weight\n",
      "weight: 0\n",
      "uses-long-cache-ttl\n",
      "weight: 0\n",
      "dom-size\n",
      "weight: 0\n",
      "critical-request-chains\n",
      "weight: 0\n",
      "user-timings\n",
      "weight: 0\n",
      "bootup-time\n",
      "weight: 0\n",
      "mainthread-work-breakdown\n",
      "weight: 0\n",
      "font-display\n",
      "weight: 0\n",
      "performance-budget\n",
      "weight: 0\n",
      "timing-budget\n",
      "weight: 0\n",
      "resource-summary\n",
      "weight: 0\n",
      "third-party-summary\n",
      "weight: 0\n",
      "largest-contentful-paint-element\n",
      "weight: 0\n",
      "layout-shift-elements\n",
      "weight: 0\n",
      "uses-passive-event-listeners\n",
      "weight: 0\n",
      "no-document-write\n",
      "weight: 0\n",
      "long-tasks\n",
      "weight: 0\n",
      "non-composited-animations\n",
      "weight: 0\n",
      "large-javascript-libraries\n",
      "weight: 0\n",
      "network-requests\n",
      "weight: 0\n",
      "network-rtt\n",
      "weight: 0\n",
      "network-server-latency\n",
      "weight: 0\n",
      "main-thread-tasks\n",
      "weight: 0\n",
      "diagnostics\n",
      "weight: 0\n",
      "metrics\n",
      "weight: 0\n",
      "screenshot-thumbnails\n",
      "weight: 0\n",
      "final-screenshot\n",
      "weight: 0\n",
      "[]\n"
     ]
    },
    {
     "data": {
      "text/plain": "0"
     },
     "execution_count": 54,
     "metadata": {},
     "output_type": "execute_result"
    }
   ],
   "source": [
    "ids = []\n",
    "for elem in content['lighthouseResult']['categories'][category]['auditRefs']:\n",
    "    print(elem['id'])\n",
    "    print('weight: {}'. format(elem['weight']))\n",
    "#     ids.append(elem['id'])\n",
    "print(ids)\n",
    "len(ids)"
   ]
  },
  {
   "cell_type": "code",
   "execution_count": 55,
   "metadata": {
    "pycharm": {
     "name": "#%%\n"
    },
    "scrolled": false
   },
   "outputs": [],
   "source": [
    "i=0\n",
    "for key, value in content['lighthouseResult']['audits'].items():\n",
    "    if key in ids:\n",
    "        print('key: {},\\n\\tid: {}, \\n\\tscore: {},\\n\\ttitle: {}, \\n\\tdescription: {}'.format(key,value['id'], value['score'], value['title'], value['description']))"
   ]
  },
  {
   "cell_type": "code",
   "execution_count": 55,
   "metadata": {},
   "outputs": [],
   "source": []
  }
 ],
 "metadata": {
  "kernelspec": {
   "display_name": "Python 3",
   "language": "python",
   "name": "python3"
  },
  "language_info": {
   "codemirror_mode": {
    "name": "ipython",
    "version": 3
   },
   "file_extension": ".py",
   "mimetype": "text/x-python",
   "name": "python",
   "nbconvert_exporter": "python",
   "pygments_lexer": "ipython3",
   "version": "3.9.0"
  }
 },
 "nbformat": 4,
 "nbformat_minor": 1
}
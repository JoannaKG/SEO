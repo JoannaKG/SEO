{
 "cells": [
  {
   "cell_type": "code",
   "execution_count": null,
   "metadata": {
    "pycharm": {
     "is_executing": true
    }
   },
   "outputs": [],
   "source": [
    "import json\n",
    "from selenium import webdriver\n",
    "import pandas as pd\n",
    "import numpy as np\n",
    "import re\n",
    "import requests\n",
    "import time"
   ]
  },
  {
   "cell_type": "code",
   "execution_count": null,
   "metadata": {},
   "outputs": [],
   "source": [
    "driver = webdriver.Chrome('C:\\\\Users\\\\Joanna\\\\AppData\\\\Local\\\\Programs\\\\Python\\\\Python39\\\\venv\\\\Scripts\\\\chromedriver.exe')"
   ]
  },
  {
   "cell_type": "code",
   "execution_count": null,
   "metadata": {
    "pycharm": {
     "name": "#%%\n"
    }
   },
   "outputs": [],
   "source": [
    "def urls_for_keyword(keyword, driver=driver):    \n",
    "    driver.get('https://www.google.pl/search?q=' + keyword)\n",
    "    webelements = driver.find_elements_by_xpath('//div[@class=\"rc\"]/div/a')\n",
    "    urls = []\n",
    "    for elem in webelements:\n",
    "        urls.append(elem.get_attribute('href'))\n",
    "    return urls"
   ]
  },
  {
   "cell_type": "code",
   "execution_count": null,
   "metadata": {
    "pycharm": {
     "name": "#%%\n"
    }
   },
   "outputs": [],
   "source": [
    "def urls_info(urls, driver=driver):\n",
    "    headings1 = []\n",
    "    titles = []\n",
    "    bodies = []\n",
    "    for url in urls:\n",
    "        driver.get(url)\n",
    "        titles.append(driver.title)\n",
    "        bodies.append(driver.find_elements_by_tag_name('body')[0].text)\n",
    "        headings1.append(driver.find_elements_by_tag_name('h1')[0].text)\n",
    "            \n",
    "    df = pd.DataFrame(\n",
    "    {'url' : urls,\n",
    "     'title': titles,\n",
    "     'h1' : headings1,\n",
    "     'content' : bodies\n",
    "     })\n",
    "    return df"
   ]
  },
  {
   "cell_type": "code",
   "execution_count": null,
   "metadata": {
    "pycharm": {
     "name": "#%%\n"
    }
   },
   "outputs": [],
   "source": [
    "def collect_data(url, category, position):\n",
    "    api_content = requests.get('https://pagespeedonline.googleapis.com/pagespeedonline/v5/runPagespeed?url={}&category={}'.format(url, category)).content\n",
    "    content = json.loads(api_content)\n",
    "#     print(content)\n",
    "    \n",
    "    values = ['id', 'score', 'title', 'description']\n",
    "    records = []\n",
    "\n",
    "    for elem in content['lighthouseResult']['categories'][category.replace('_','-')]['auditRefs']:\n",
    "        record = [{'position' : position}, {'url' : url}, {'category' : category}]\n",
    "#         record = []\n",
    "        record.append({'id': elem['id']})\n",
    "        record.append({'weight' : elem['weight']})\n",
    "        try:\n",
    "            group = elem['group']\n",
    "        except KeyError:\n",
    "            group = np.nan\n",
    "        record.append({'group' : group})\n",
    "        records.append(record)\n",
    "        values = ['score', 'title', 'description']\n",
    "        for key, value in content['lighthouseResult']['audits'].items():\n",
    "            if key == elem['id']:\n",
    "                for v in values:\n",
    "                    record.append({v : value[v]})\n",
    "                    \n",
    "    cols = ['position', 'url', 'category', 'id', 'weight', 'group', 'score', 'title', 'description']\n",
    "    rows = []\n",
    "    for record in records:\n",
    "        row = []\n",
    "        for elem in record:\n",
    "            row.append([elem[key] for key in elem][0])\n",
    "        rows.append(row)\n",
    "\n",
    "    df = pd.DataFrame(rows, columns=cols)\n",
    "    return df"
   ]
  },
  {
   "cell_type": "code",
   "execution_count": null,
   "metadata": {},
   "outputs": [],
   "source": [
    "start = time.time()\n",
    "\n",
    "keywords = ['czerwona sukienka', 'czarna sukienka']\n",
    "categories = ['performance', 'best_practices', 'seo']\n",
    "\n",
    "urls_informations =[]\n",
    "for keyword in keywords:\n",
    "    urls = urls_for_keyword(keyword)\n",
    "    urls_information = urls_info(urls)\n",
    "    urls_informations.append(urls_information)\n",
    "    urls_information.to_csv('urls_info_for_keyword_{}.csv'.format(keyword))\n",
    "    \n",
    "    dfs = []\n",
    "    for i, url in enumerate(urls):\n",
    "        for category in categories:\n",
    "            while True:\n",
    "                try:\n",
    "                    df = collect_data(url, category, i+1)\n",
    "                except KeyError:\n",
    "                    time.sleep(100)\n",
    "                    continue\n",
    "                break\n",
    "            dfs.append(df)\n",
    "            df.to_csv('keyword_{}_position_{}_category_{}.csv'.format(keyword, i+1, category))\n",
    "\n",
    "stop = time.time()\n",
    "print(stop-start)"
   ]
  },
  {
   "cell_type": "code",
   "execution_count": null,
   "metadata": {},
   "outputs": [],
   "source": [
    "dfs[0]"
   ]
  }
 ],
 "metadata": {
  "kernelspec": {
   "display_name": "Python 3",
   "language": "python",
   "name": "python3"
  },
  "language_info": {
   "codemirror_mode": {
    "name": "ipython",
    "version": 3
   },
   "file_extension": ".py",
   "mimetype": "text/x-python",
   "name": "python",
   "nbconvert_exporter": "python",
   "pygments_lexer": "ipython3",
   "version": "3.9.0"
  }
 },
 "nbformat": 4,
 "nbformat_minor": 1
}
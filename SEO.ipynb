{
 "cells": [
  {
   "cell_type": "code",
   "execution_count": 1,
   "metadata": {
    "collapsed": true
   },
   "outputs": [],
   "source": [
    "import json\n",
    "from selenium import webdriver\n",
    "import pandas as pd\n",
    "import requests\n",
    "import xml.etree.ElementTree as ET"
   ]
  },
  {
   "cell_type": "code",
   "execution_count": 2,
   "outputs": [],
   "source": [
    "driver = webdriver.Chrome('C:\\\\Users\\\\Joanna\\\\AppData\\\\Local\\\\Programs\\\\Python\\\\Python39\\\\venv\\\\Scripts\\\\chromedriver.exe')\n",
    "keywords = ['czerwona sukienka']\n",
    "driver.get('https://www.google.pl/search?q='+keywords[0])"
   ],
   "metadata": {
    "collapsed": false,
    "pycharm": {
     "name": "#%%\n"
    }
   }
  },
  {
   "cell_type": "code",
   "execution_count": 3,
   "outputs": [
    {
     "name": "stdout",
     "output_type": "stream",
     "text": [
      "['https://domodi.pl/czerwone-sukienki', 'https://allani.pl/wyszukaj/sukienki/czerwone', 'https://allegro.pl/listing?string=czerwona%20sukienka', 'https://www.zalando.pl/odziez-damska-sukienki/_czerwony/', 'https://www.renee.pl/sukienki/czerwone', 'https://ohso.pl/c4558,4614,0,0,,czerwone-sukienki', 'https://modnakiecka.pl/pl/c/Czerwone-Sukienki/2240726', 'https://www.c-and-a.com/pl/pl/shop/trend-czerwona-sukienka', 'https://mosquito-sklep.pl/pl/238-sukienki-czerwone']\n"
     ]
    }
   ],
   "source": [
    "webelements = driver.find_elements_by_xpath('//div[@class=\"rc\"]/div/a')\n",
    "urls = []\n",
    "for elem in webelements:\n",
    "    urls.append(elem.get_attribute('href'))\n",
    "print(urls)"
   ],
   "metadata": {
    "collapsed": false,
    "pycharm": {
     "name": "#%%\n"
    }
   }
  },
  {
   "cell_type": "code",
   "execution_count": 4,
   "outputs": [],
   "source": [
    "headings1 = []\n",
    "titles = []\n",
    "bodies = []\n",
    "for url in urls[:1]:\n",
    "    driver.get(url)\n",
    "    heading1 = driver.find_elements_by_tag_name('h1')\n",
    "    headings1.append(heading1[0].text)\n",
    "    title = driver.title\n",
    "    titles.append(title)\n",
    "    body = driver.find_elements_by_tag_name('body')\n",
    "    bodies.append(body[0].text)"
   ],
   "metadata": {
    "collapsed": false,
    "pycharm": {
     "name": "#%%\n"
    }
   }
  },
  {
   "cell_type": "code",
   "execution_count": 5,
   "outputs": [
    {
     "data": {
      "text/plain": "                                  site                                  title  \\\n0  https://domodi.pl/czerwone-sukienki  Czerwone sukienki, zima 2020 w Domodi   \n\n                             h1  \\\n0  Czerwone sukienki, zima 2020   \n\n                                             content  \n0  Skompletuj swoją szafę na nowy rok z rabatami ...  ",
      "text/html": "<div>\n<style scoped>\n    .dataframe tbody tr th:only-of-type {\n        vertical-align: middle;\n    }\n\n    .dataframe tbody tr th {\n        vertical-align: top;\n    }\n\n    .dataframe thead th {\n        text-align: right;\n    }\n</style>\n<table border=\"1\" class=\"dataframe\">\n  <thead>\n    <tr style=\"text-align: right;\">\n      <th></th>\n      <th>site</th>\n      <th>title</th>\n      <th>h1</th>\n      <th>content</th>\n    </tr>\n  </thead>\n  <tbody>\n    <tr>\n      <th>0</th>\n      <td>https://domodi.pl/czerwone-sukienki</td>\n      <td>Czerwone sukienki, zima 2020 w Domodi</td>\n      <td>Czerwone sukienki, zima 2020</td>\n      <td>Skompletuj swoją szafę na nowy rok z rabatami ...</td>\n    </tr>\n  </tbody>\n</table>\n</div>"
     },
     "execution_count": 5,
     "metadata": {},
     "output_type": "execute_result"
    }
   ],
   "source": [
    "df = pd.DataFrame(\n",
    "    {'site' : urls[:1],\n",
    "     'title': titles,\n",
    "     'h1' : headings1,\n",
    "     'content' : bodies\n",
    "     })\n",
    "df.head()"
   ],
   "metadata": {
    "collapsed": false,
    "pycharm": {
     "name": "#%%\n"
    }
   }
  },
  {
   "cell_type": "code",
   "execution_count": 8,
   "outputs": [
    {
     "name": "stdout",
     "output_type": "stream",
     "text": [
      "https://pagespeedonline.googleapis.com/pagespeedonline/v5/runPagespeed?url=https://domodi.pl/czerwone-sukienki\n"
     ]
    }
   ],
   "source": [
    "for url in urls[:1]:\n",
    "    print('https://pagespeedonline.googleapis.com/pagespeedonline/v5/runPagespeed?url={}'.format(url))\n",
    "    api_content = requests.get('https://pagespeedonline.googleapis.com/pagespeedonline/v5/runPagespeed?url={}'.format(url)).content\n",
    "    content = json.loads(api_content)"
   ],
   "metadata": {
    "collapsed": false,
    "pycharm": {
     "name": "#%%\n"
    }
   }
  },
  {
   "cell_type": "code",
   "execution_count": 11,
   "outputs": [
    {
     "data": {
      "text/plain": "dict_keys(['CUMULATIVE_LAYOUT_SHIFT_SCORE', 'FIRST_CONTENTFUL_PAINT_MS', 'FIRST_INPUT_DELAY_MS', 'LARGEST_CONTENTFUL_PAINT_MS'])"
     },
     "execution_count": 11,
     "metadata": {},
     "output_type": "execute_result"
    }
   ],
   "source": [
    "content['loadingExperience']['metrics'].keys()\n"
   ],
   "metadata": {
    "collapsed": false,
    "pycharm": {
     "name": "#%%\n"
    }
   }
  }
 ],
 "metadata": {
  "kernelspec": {
   "display_name": "Python 3",
   "language": "python",
   "name": "python3"
  },
  "language_info": {
   "codemirror_mode": {
    "name": "ipython",
    "version": 2
   },
   "file_extension": ".py",
   "mimetype": "text/x-python",
   "name": "python",
   "nbconvert_exporter": "python",
   "pygments_lexer": "ipython2",
   "version": "2.7.6"
  }
 },
 "nbformat": 4,
 "nbformat_minor": 0
}
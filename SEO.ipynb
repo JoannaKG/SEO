{
 "cells": [
  {
   "cell_type": "code",
   "execution_count": 74,
   "metadata": {
    "collapsed": true
   },
   "outputs": [],
   "source": [
    "from selenium import webdriver\n",
    "import pandas as pd"
   ]
  },
  {
   "cell_type": "code",
   "execution_count": 75,
   "outputs": [],
   "source": [
    "driver = webdriver.Chrome('C:\\\\Users\\\\Joanna\\\\AppData\\\\Local\\\\Programs\\\\Python\\\\Python39\\\\venv\\\\Scripts\\\\chromedriver.exe')\n",
    "keywords = ['czerwona sukienka']\n",
    "driver.get('https://www.google.pl/search?q='+keywords[0])"
   ],
   "metadata": {
    "collapsed": false,
    "pycharm": {
     "name": "#%%\n"
    }
   }
  },
  {
   "cell_type": "code",
   "execution_count": 76,
   "outputs": [
    {
     "name": "stdout",
     "output_type": "stream",
     "text": [
      "['https://domodi.pl/czerwone-sukienki', 'https://allani.pl/wyszukaj/sukienki/czerwone', 'https://allegro.pl/listing?string=czerwona%20sukienka', 'https://www.zalando.pl/odziez-damska-sukienki/_czerwony/', 'https://ohso.pl/c4558,4614,0,0,,czerwone-sukienki', 'https://www.renee.pl/sukienki/czerwone', 'https://modnakiecka.pl/pl/c/Czerwone-Sukienki/2240726', 'https://www.c-and-a.com/pl/pl/shop/trend-czerwona-sukienka', 'https://mosquito-sklep.pl/pl/238-sukienki-czerwone']\n"
     ]
    }
   ],
   "source": [
    "webelements = driver.find_elements_by_xpath('//div[@class=\"rc\"]/div/a')\n",
    "hrefs = []\n",
    "for elem in webelements:\n",
    "    hrefs.append(elem.get_attribute('href'))\n",
    "print(hrefs)"
   ],
   "metadata": {
    "collapsed": false,
    "pycharm": {
     "name": "#%%\n"
    }
   }
  },
  {
   "cell_type": "code",
   "execution_count": 77,
   "outputs": [],
   "source": [
    "headings1 = []\n",
    "titles = []\n",
    "bodies = []\n",
    "for href in hrefs:\n",
    "    driver.get(href)\n",
    "    heading1 = driver.find_elements_by_tag_name('h1')\n",
    "    headings1.append(heading1[0].text)\n",
    "    title = driver.title\n",
    "    titles.append(title)\n",
    "    body = driver.find_elements_by_tag_name('body')\n",
    "    bodies.append(body[0].text)"
   ],
   "metadata": {
    "collapsed": false,
    "pycharm": {
     "name": "#%%\n"
    }
   }
  },
  {
   "cell_type": "code",
   "execution_count": 78,
   "outputs": [
    {
     "data": {
      "text/plain": "                                                site  \\\n0                https://domodi.pl/czerwone-sukienki   \n1       https://allani.pl/wyszukaj/sukienki/czerwone   \n2  https://allegro.pl/listing?string=czerwona%20s...   \n3  https://www.zalando.pl/odziez-damska-sukienki/...   \n4  https://ohso.pl/c4558,4614,0,0,,czerwone-sukienki   \n\n                                               title  \\\n0              Czerwone sukienki, zima 2020 w Domodi   \n1                       Czerwone sukienki, zima 2021   \n2       Czerwona sukienka - Niska cena na Allegro.pl   \n3  Czerwone Sukienki dla Ciebie! Odkryj tą idealn...   \n4  Czerwone sukienki - rozkloszowane oraz dopasow...   \n\n                             h1  \\\n0  Czerwone sukienki, zima 2020   \n1  Czerwone sukienki, zima 2021   \n2      szukaszczerwona sukienka   \n3             czerwone Sukienki   \n4             CZERWONE SUKIENKI   \n\n                                             content  \n0  Skompletuj swoją szafę na nowy rok z rabatami ...  \n1  Damskie\\nMęskie\\nDziecięce\\nUroda\\nTrendy\\nWyp...  \n2  szukaj wielu\\nWszędzie\\nWszystkie kategorie\\nD...  \n3  PRZEJDŹ DO GŁÓWNEJ ZAWARTOŚCI\\nZimowa wyprzeda...  \n4   \\n\\n \\n \\nINFOLINIA 94 306 76 76TWOJE KONTO\\n...  ",
      "text/html": "<div>\n<style scoped>\n    .dataframe tbody tr th:only-of-type {\n        vertical-align: middle;\n    }\n\n    .dataframe tbody tr th {\n        vertical-align: top;\n    }\n\n    .dataframe thead th {\n        text-align: right;\n    }\n</style>\n<table border=\"1\" class=\"dataframe\">\n  <thead>\n    <tr style=\"text-align: right;\">\n      <th></th>\n      <th>site</th>\n      <th>title</th>\n      <th>h1</th>\n      <th>content</th>\n    </tr>\n  </thead>\n  <tbody>\n    <tr>\n      <th>0</th>\n      <td>https://domodi.pl/czerwone-sukienki</td>\n      <td>Czerwone sukienki, zima 2020 w Domodi</td>\n      <td>Czerwone sukienki, zima 2020</td>\n      <td>Skompletuj swoją szafę na nowy rok z rabatami ...</td>\n    </tr>\n    <tr>\n      <th>1</th>\n      <td>https://allani.pl/wyszukaj/sukienki/czerwone</td>\n      <td>Czerwone sukienki, zima 2021</td>\n      <td>Czerwone sukienki, zima 2021</td>\n      <td>Damskie\\nMęskie\\nDziecięce\\nUroda\\nTrendy\\nWyp...</td>\n    </tr>\n    <tr>\n      <th>2</th>\n      <td>https://allegro.pl/listing?string=czerwona%20s...</td>\n      <td>Czerwona sukienka - Niska cena na Allegro.pl</td>\n      <td>szukaszczerwona sukienka</td>\n      <td>szukaj wielu\\nWszędzie\\nWszystkie kategorie\\nD...</td>\n    </tr>\n    <tr>\n      <th>3</th>\n      <td>https://www.zalando.pl/odziez-damska-sukienki/...</td>\n      <td>Czerwone Sukienki dla Ciebie! Odkryj tą idealn...</td>\n      <td>czerwone Sukienki</td>\n      <td>PRZEJDŹ DO GŁÓWNEJ ZAWARTOŚCI\\nZimowa wyprzeda...</td>\n    </tr>\n    <tr>\n      <th>4</th>\n      <td>https://ohso.pl/c4558,4614,0,0,,czerwone-sukienki</td>\n      <td>Czerwone sukienki - rozkloszowane oraz dopasow...</td>\n      <td>CZERWONE SUKIENKI</td>\n      <td>\\n\\n \\n \\nINFOLINIA 94 306 76 76TWOJE KONTO\\n...</td>\n    </tr>\n  </tbody>\n</table>\n</div>"
     },
     "execution_count": 78,
     "metadata": {},
     "output_type": "execute_result"
    }
   ],
   "source": [
    "df = pd.DataFrame(\n",
    "    {'site' : hrefs,\n",
    "     'title': titles,\n",
    "     'h1' : headings1,\n",
    "     'content' : bodies\n",
    "     })\n",
    "df.head()"
   ],
   "metadata": {
    "collapsed": false,
    "pycharm": {
     "name": "#%%\n"
    }
   }
  },
  {
   "cell_type": "code",
   "execution_count": 79,
   "outputs": [
    {
     "data": {
      "text/plain": "['Czerwone sukienki, zima 2020',\n 'Czerwone sukienki, zima 2021',\n 'szukaszczerwona sukienka',\n 'czerwone Sukienki',\n 'CZERWONE SUKIENKI',\n 'Czerwone sukienki damskie',\n 'Czerwone Sukienki',\n 'Czerwona sukienka',\n 'Sukienki czerwone']"
     },
     "execution_count": 79,
     "metadata": {},
     "output_type": "execute_result"
    }
   ],
   "source": [],
   "metadata": {
    "collapsed": false,
    "pycharm": {
     "name": "#%%\n"
    }
   }
  }
 ],
 "metadata": {
  "kernelspec": {
   "display_name": "Python 3",
   "language": "python",
   "name": "python3"
  },
  "language_info": {
   "codemirror_mode": {
    "name": "ipython",
    "version": 2
   },
   "file_extension": ".py",
   "mimetype": "text/x-python",
   "name": "python",
   "nbconvert_exporter": "python",
   "pygments_lexer": "ipython2",
   "version": "2.7.6"
  }
 },
 "nbformat": 4,
 "nbformat_minor": 0
}